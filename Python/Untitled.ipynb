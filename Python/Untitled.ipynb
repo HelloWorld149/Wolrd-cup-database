{
 "cells": [
  {
   "cell_type": "code",
   "execution_count": 1,
   "id": "e97d2dc5",
   "metadata": {},
   "outputs": [],
   "source": [
    "from flask import Flask, render_template\n",
    "from flask_mysqldb import MySQL\n",
    "import os\n",
    "\n",
    "import MySQLdb    "
   ]
  },
  {
   "cell_type": "code",
   "execution_count": 2,
   "id": "743ee6a2",
   "metadata": {},
   "outputs": [],
   "source": [
    "app = Flask(__name__)\n",
    "\n",
    "# Database configuration\n",
    "app.config['MYSQL_HOST'] = 'localhost'\n",
    "app.config['MYSQL_USER'] = 'root'\n",
    "app.config['MYSQL_PASSWORD'] = 'chessyeti'\n",
    "app.config['MYSQL_DB'] = 'worldcup'\n",
    "\n",
    "mysql = MySQL(app)\n",
    "@app.route('/test_db')\n",
    "def test_db_connection():\n",
    "    try:\n",
    "        cur = mysql.connection.cursor()\n",
    "        cur.execute(\"SELECT 1\")  # This is a simple query to test the connection.\n",
    "        return \"Database Connected Successfully!\"\n",
    "    except Exception as e:\n",
    "        return f\"Database Connection Error: {e}\"\n",
    "\n",
    "@app.route('/')\n",
    "def index():   \n",
    "    cur = mysql.connection.cursor()\n",
    "    \n",
    "    # Fetch WorldCupMatch data\n",
    "    cur.execute(\"SELECT * FROM WorldCupMatch\")\n",
    "    matches = cur.fetchall()\n",
    "    \n",
    "    # Fetch Player data\n",
    "    cur.execute(\"SELECT * FROM Player\")\n",
    "    players = cur.fetchall()\n",
    "    \n",
    "    # Fetch WorldCupReferee data\n",
    "    cur.execute(\"SELECT * FROM WorldCupReferee\")\n",
    "    referees = cur.fetchall()\n",
    "    \n",
    "    # Fetch WorldCupResult data\n",
    "    cur.execute(\"SELECT * FROM WorldCupResult\")\n",
    "    results = cur.fetchall()\n",
    "    \n",
    "    # Fetch Worldcup\n",
    "    cur.execute(\"SELECT * FROM worldcup\")\n",
    "    worldcups = cur.fetchall()\n",
    "    \n",
    "    cur.close()\n",
    "\n",
    "    return render_template('worldcup.html', worldcup=worldcups, matches=matches, players=players, referees=referees, results=results)\n",
    "\n",
    "\n",
    "if __name__ == \"__main__\":\n",
    "    app.run(debug=True)"
   ]
  },
  {
   "cell_type": "code",
   "execution_count": null,
   "id": "515d78ea",
   "metadata": {},
   "outputs": [],
   "source": []
  }
 ],
 "metadata": {
  "kernelspec": {
   "display_name": "Python 3 (ipykernel)",
   "language": "python",
   "name": "python3"
  },
  "language_info": {
   "codemirror_mode": {
    "name": "ipython",
    "version": 3
   },
   "file_extension": ".py",
   "mimetype": "text/x-python",
   "name": "python",
   "nbconvert_exporter": "python",
   "pygments_lexer": "ipython3",
   "version": "3.9.16"
  }
 },
 "nbformat": 4,
 "nbformat_minor": 5
}
